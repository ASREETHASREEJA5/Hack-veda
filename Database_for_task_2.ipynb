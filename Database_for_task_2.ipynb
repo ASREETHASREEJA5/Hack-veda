{
  "nbformat": 4,
  "nbformat_minor": 0,
  "metadata": {
    "colab": {
      "provenance": [],
      "authorship_tag": "ABX9TyOFrB3Ghi9t3B0O0H7/n6Uy",
      "include_colab_link": true
    },
    "kernelspec": {
      "name": "python3",
      "display_name": "Python 3"
    },
    "language_info": {
      "name": "python"
    }
  },
  "cells": [
    {
      "cell_type": "markdown",
      "metadata": {
        "id": "view-in-github",
        "colab_type": "text"
      },
      "source": [
        "<a href=\"https://colab.research.google.com/github/ASREETHASREEJA5/Hack-veda/blob/main/Database_for_task_2.ipynb\" target=\"_parent\"><img src=\"https://colab.research.google.com/assets/colab-badge.svg\" alt=\"Open In Colab\"/></a>"
      ]
    },
    {
      "cell_type": "code",
      "execution_count": null,
      "metadata": {
        "id": "QZvUUBQbDYlH"
      },
      "outputs": [],
      "source": [
        "-- Create Stocks table\n",
        "CREATE TABLE Stocks (\n",
        "    Stock_ID INT AUTO_INCREMENT PRIMARY KEY,\n",
        "    Symbol VARCHAR(10),\n",
        "    Name VARCHAR(255),\n",
        "    Sector VARCHAR(255),\n",
        "    Exchange VARCHAR(50)\n",
        ");\n",
        "\n",
        "-- Create Stock_Prices table\n",
        "CREATE TABLE Stock_Prices (\n",
        "    Price_ID INT AUTO_INCREMENT PRIMARY KEY,\n",
        "    Stock_ID INT,\n",
        "    Date DATE,\n",
        "    Open DECIMAL(10,2),\n",
        "    High DECIMAL(10,2),\n",
        "    Low DECIMAL(10,2),\n",
        "    Close DECIMAL(10,2),\n",
        "    Adjusted_Close DECIMAL(10,2),\n",
        "    Volume INT,\n",
        "    FOREIGN KEY (Stock_ID) REFERENCES Stocks(Stock_ID)\n",
        ");\n",
        "\n",
        "-- Create Technical_Indicators table\n",
        "CREATE TABLE Technical_Indicators (\n",
        "    Indicator_ID INT AUTO_INCREMENT PRIMARY KEY,\n",
        "    Stock_ID INT,\n",
        "    Date DATE,\n",
        "    Indicator_Type VARCHAR(50),\n",
        "    Value DECIMAL(10,2),\n",
        "    FOREIGN KEY (Stock_ID) REFERENCES Stocks(Stock_ID)\n",
        ");\n",
        "\n",
        "-- Insert sample data into Stocks table\n",
        "INSERT INTO Stocks (Symbol, Name, Sector, Exchange) VALUES\n",
        "    ('AAPL', 'Apple Inc.', 'Technology', 'NASDAQ'),\n",
        "    ('MSFT', 'Microsoft Corporation', 'Technology', 'NASDAQ'),\n",
        "    ('AMZN', 'Amazon.com Inc.', 'Technology', 'NASDAQ');\n",
        "\n",
        "-- Insert sample data into Stock_Prices table\n",
        "INSERT INTO Stock_Prices (Stock_ID, Date, Open, High, Low, Close, Adjusted_Close, Volume) VALUES\n",
        "    (1, '2024-06-30', 145.00, 147.50, 144.50, 146.75, 146.50, 100000),\n",
        "    (2, '2024-06-30', 280.00, 282.50, 278.50, 281.25, 280.90, 75000),\n",
        "    (3, '2024-06-30', 3200.00, 3220.00, 3185.00, 3215.50, 3210.00, 50000);\n",
        "\n",
        "-- Insert sample data into Technical_Indicators table\n",
        "INSERT INTO Technical_Indicators (Stock_ID, Date, Indicator_Type, Value) VALUES\n",
        "    (1, '2024-06-30', 'Moving Average', 142.50),\n",
        "    (1, '2024-06-30', 'RSI', 65.80),\n",
        "    (2, '2024-06-30', 'Moving Average', 279.80),\n",
        "    (2, '2024-06-30', 'RSI', 70.25),\n",
        "    (3, '2024-06-30', 'Moving Average', 3190.50),\n",
        "    (3, '2024-06-30', 'RSI', 62.40);\n",
        "\n",
        "-- Display all rows from Stocks table\n",
        "SELECT * FROM Stocks;\n",
        "\n",
        "-- Display all rows from Stock_Prices table\n",
        "SELECT * FROM Stock_Prices;\n",
        "\n",
        "-- Display all rows from Technical_Indicators table\n",
        "SELECT * FROM Technical_Indicators;\n"
      ]
    }
  ]
}